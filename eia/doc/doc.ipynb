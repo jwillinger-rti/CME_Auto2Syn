{
 "cells": [
  {
   "cell_type": "markdown",
   "metadata": {},
   "source": [
    "# Calculation Documentation:"
   ]
  },
  {
   "cell_type": "markdown",
   "metadata": {},
   "source": [
    "$$UP_{ref-rate} = \\frac{I_{gross}}{C_{operable}}$$\n",
    "\n",
    "$UP_{ref-rate}$ = Weekly Refinery Utilization Rate, $\\%$\n",
    "\n",
    "$I_{gross}$ = Weekly Refinery Gross Inputs, Thousand $bbl/d$\n",
    "\n",
    "$I_{gross}$ = Weekly Operable Capacity, Thousand $bbl/d$"
   ]
  },
  {
   "cell_type": "markdown",
   "metadata": {},
   "source": []
  },
  {
   "cell_type": "markdown",
   "metadata": {},
   "source": []
  }
 ],
 "metadata": {
  "language_info": {
   "name": "python"
  }
 },
 "nbformat": 4,
 "nbformat_minor": 2
}
